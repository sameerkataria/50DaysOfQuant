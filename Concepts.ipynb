{
 "cells": [
  {
   "cell_type": "code",
   "execution_count": 36,
   "metadata": {},
   "outputs": [],
   "source": [
    "# Import modules\n",
    "import numpy as np\n",
    "import pandas as pd\n",
    "import matplotlib.pyplot as plt"
   ]
  },
  {
   "cell_type": "markdown",
   "metadata": {},
   "source": [
    "- [Linear regression using Gradient descent](#Linreg)"
   ]
  },
  {
   "cell_type": "markdown",
   "metadata": {},
   "source": [
    "\n",
    "#### Gradient Descent"
   ]
  },
  {
   "cell_type": "markdown",
   "metadata": {},
   "source": [
    "- It is a first order method for solving an optimization problem\n",
    "- Gradient Descent with a step size $t_k$ at the $k^{th}$ iteration\n",
    "    - $ x ^ {k+1} = x^{k} - t_k \\nabla f(x^k)$\n",
    "    - Here $\\nabla f(x^k)$ is the gradient at point $x^k$\n",
    "- This method is commonly used in Deep learning and machine learning to minimize cost functions\n",
    "- For convex optimization it gives global optimum under failry general conditions\n",
    "- for non-convex optimization, it may achieve a local optimum"
   ]
  },
  {
   "cell_type": "markdown",
   "metadata": {},
   "source": [
    "<b> In relation to Linear regression we are trying to minimize the squared errors </b>\n",
    "- $min f(b) = || y-Xb ||^{2}$\n",
    "    - $X \\in R^{n\\times(p+1)}$\n",
    "- $\\nabla f(b) = 2X^{T}(Xb-y)$\n",
    "- $b^{k+1} = b^{k} - 2t_{k} X^{T}(Xb^{k}-y)$"
   ]
  },
  {
   "cell_type": "markdown",
   "metadata": {},
   "source": [
    "<b> Some of the stopping criterion could be the following </b>\n",
    "- $||\\nabla f(x)||_{2}$ is sufficiently small\n",
    "- $||x^{k+1}-x^{k}||_{2}$ or $|f(x^{k+1})-f(x^{k})|$ is small"
   ]
  },
  {
   "cell_type": "markdown",
   "metadata": {},
   "source": [
    "<b> Learning Rate in a gradient Descent</b>\n",
    "<br>![Alt Text](https://builtin.com/sites/www.builtin.com/files/styles/ckeditor_optimize/public/inline-images/national/gradient-descent-learning-rate.png)</br>"
   ]
  },
  {
   "cell_type": "markdown",
   "metadata": {},
   "source": [
    "[Link for More on hyperparameters](https://developers.google.com/machine-learning/crash-course/linear-regression/hyperparameters)"
   ]
  },
  {
   "cell_type": "markdown",
   "metadata": {},
   "source": [
    "Some types of Gradient Descent\n",
    "- Batch Gradient Descent\n",
    "- Stochastic Gradient Descent\n",
    "- Mini batch Gradient Descent\n"
   ]
  },
  {
   "cell_type": "markdown",
   "metadata": {},
   "source": [
    "[Link to diff between batch and SGD](https://www.geeksforgeeks.org/difference-between-batch-gradient-descent-and-stochastic-gradient-descent/#:~:text=background%2Dcolor%3A%20%23ffffff%3B%20%7D-,Batch%20Gradient%20Descent,can%20help%20reduce%20overfitting%20by%20updating%20the%20model%20parameters%20more%20frequently.,-Comment)"
   ]
  },
  {
   "cell_type": "markdown",
   "metadata": {},
   "source": [
    "<a id = 'Linreg'></a>\n",
    "<b> Batch vs Stochastic vs Mini Batch </b>"
   ]
  },
  {
   "cell_type": "code",
   "execution_count": 10,
   "metadata": {},
   "outputs": [
    {
     "name": "stdout",
     "output_type": "stream",
     "text": [
      "Maximum iterations reached!\n",
      "\n",
      "Final parameters:\n",
      "Bias (theta_0): 3.9777\n",
      "Weight (theta_1): 3.0188\n"
     ]
    }
   ],
   "source": [
    "# batch gradient descent\n",
    "\n",
    "def batch_gradient_descent(X, y, learning_rate=0.01, max_iterations=1000, tolerance=1e-6):\n",
    "    \"\"\"\n",
    "    Implement batch gradient descent for linear regression.\n",
    "    \n",
    "    Returns:\n",
    "    numpy.ndarray: Optimal parameters\n",
    "    list: History of costs for plotting convergence\n",
    "    \"\"\"\n",
    "    # Add bias term to X\n",
    "    m, n = X.shape\n",
    "    X_b = np.c_[np.ones((m, 1)), X]\n",
    "    \n",
    "    # Initialize parameters (weights and bias)\n",
    "    theta = np.zeros(n + 1)\n",
    "    \n",
    "    # Lists to store cost history\n",
    "    cost_history = []\n",
    "    \n",
    "    for iteration in range(max_iterations):\n",
    "        # Calculate predictions\n",
    "        y_pred = X_b.dot(theta)\n",
    "        \n",
    "        # Calculate gradients\n",
    "        gradients = (2/m) * X_b.T.dot(y_pred - y)\n",
    "        \n",
    "        # Store previous parameters for convergence check\n",
    "        theta_prev = theta.copy()\n",
    "        \n",
    "        # Update parameters\n",
    "        theta = theta - learning_rate * gradients\n",
    "        \n",
    "        # Calculate cost (MSE)\n",
    "        cost = np.mean((y_pred - y) ** 2)\n",
    "        cost_history.append(cost)\n",
    "        \n",
    "        # Check for convergence\n",
    "        if np.all(np.abs(theta - theta_prev) < tolerance):\n",
    "            print(f\"Converged after {iteration + 1} iterations!\")\n",
    "            break\n",
    "            \n",
    "        if iteration == max_iterations - 1:\n",
    "            print(\"Maximum iterations reached!\")\n",
    "    \n",
    "    return theta, cost_history\n",
    "\n",
    "# Example usage\n",
    "def generate_sample_data(n_samples=100, noise=0.1):\n",
    "    \"\"\"Generate sample data for testing\"\"\"\n",
    "    X = 2 * np.random.rand(n_samples, 1)\n",
    "    y = 4 + 3 * X + noise * np.random.randn(n_samples, 1)\n",
    "    return X, y.ravel()\n",
    "\n",
    "# Generate sample data\n",
    "X, y = generate_sample_data()\n",
    "\n",
    "# Train the model\n",
    "theta, cost_history = batch_gradient_descent(X, y, 0.02)\n",
    "\n",
    "# Print results\n",
    "print(\"\\nFinal parameters:\")\n",
    "print(f\"Bias (theta_0): {theta[0]:.4f}\")\n",
    "print(f\"Weight (theta_1): {theta[1]:.4f}\")"
   ]
  },
  {
   "cell_type": "markdown",
   "metadata": {},
   "source": [
    "The (1/m) scaling factor in the gradient serves two important purposes:\n",
    "- It normalizes the gradient by the number of examples, preventing larger datasets from causing larger gradient steps\n",
    "- It ensures the learning rate doesn't need to be adjusted based on the dataset size"
   ]
  },
  {
   "cell_type": "code",
   "execution_count": 11,
   "metadata": {},
   "outputs": [
    {
     "data": {
      "image/png": "[encoded data removed]",
      "text/plain": [
       "<Figure size 640x480 with 1 Axes>"
      ]
     },
     "metadata": {},
     "output_type": "display_data"
    }
   ],
   "source": [
    "plt.plot(cost_history)\n",
    "plt.title(\"Cost vs iterations\")\n",
    "plt.show()"
   ]
  },
  {
   "cell_type": "code",
   "execution_count": 17,
   "metadata": {},
   "outputs": [],
   "source": [
    "def stochastic_gradient_descent(X, y, learning_rate=0.01, max_epochs=100, tolerance=1e-6):\n",
    "    \"\"\"\n",
    "    Implement stochastic gradient descent for linear regression.\n",
    "    \n",
    "    Returns:\n",
    "    numpy.ndarray: Optimal parameters (weights and bias)\n",
    "    list: History of costs for plotting convergence\n",
    "    \"\"\"\n",
    "    m, n = X.shape\n",
    "    X_b = np.c_[np.ones((m, 1)), X]\n",
    "    \n",
    "    theta = np.zeros(n + 1)\n",
    "    \n",
    "    # Lists to store cost history\n",
    "    cost_history = []\n",
    "    \n",
    "    # Main training loop over epochs\n",
    "    for epoch in range(max_epochs):\n",
    "        theta_prev = theta.copy()\n",
    "        \n",
    "        # Create random ordering of examples\n",
    "        indices = np.random.permutation(m)\n",
    "        \n",
    "        # Loop through each training example\n",
    "        for i in indices:\n",
    "            # Get single example and its target\n",
    "            xi = X_b[i:i+1]\n",
    "            yi = y[i]\n",
    "            \n",
    "            # Make prediction\n",
    "            y_pred = xi.dot(theta)\n",
    "            \n",
    "            # Calculate gradient for this example\n",
    "            # Note: No need for 2/m here as m=1 for each update\n",
    "            gradient = 2 * xi.T.dot(y_pred - yi)\n",
    "            \n",
    "            # Update parameters\n",
    "            theta = theta - learning_rate * gradient\n",
    "        \n",
    "        # Calculate cost over all examples at end of epoch\n",
    "        y_pred_all = X_b.dot(theta)\n",
    "        cost = np.mean((y_pred_all - y) ** 2)\n",
    "        cost_history.append(cost)\n",
    "        \n",
    "        # Check for convergence using parameter change\n",
    "        if np.all(np.abs(theta - theta_prev) < tolerance):\n",
    "            print(f\"Converged after {epoch + 1} epochs!\")\n",
    "            break\n",
    "            \n",
    "        if epoch == max_epochs - 1:\n",
    "            print(\"Maximum epochs reached!\")\n",
    "    \n",
    "    return theta, cost_history\n"
   ]
  },
  {
   "cell_type": "code",
   "execution_count": 25,
   "metadata": {},
   "outputs": [
    {
     "name": "stdout",
     "output_type": "stream",
     "text": [
      "Maximum epochs reached!\n",
      "\n",
      "Final parameters:\n",
      "Bias (theta_0): 3.9965\n",
      "Weight (theta_1): 2.9992\n"
     ]
    }
   ],
   "source": [
    "X, y = generate_sample_data()\n",
    "\n",
    "# Train the model\n",
    "theta, cost_history = stochastic_gradient_descent(X, y, 0.02)\n",
    "\n",
    "# Print results\n",
    "print(\"\\nFinal parameters:\")\n",
    "print(f\"Bias (theta_0): {theta[0]:.4f}\")\n",
    "print(f\"Weight (theta_1): {theta[1]:.4f}\")"
   ]
  },
  {
   "cell_type": "code",
   "execution_count": 26,
   "metadata": {},
   "outputs": [
    {
     "data": {
      "image/png": "[encoded data removed]",
      "text/plain": [
       "<Figure size 640x480 with 1 Axes>"
      ]
     },
     "metadata": {},
     "output_type": "display_data"
    }
   ],
   "source": [
    "plt.plot(cost_history)\n",
    "plt.title(\"Cost vs iterations\")\n",
    "plt.show()"
   ]
  },
  {
   "cell_type": "code",
   "execution_count": 28,
   "metadata": {},
   "outputs": [],
   "source": [
    "# Mini Batch Gradient Descent\n",
    "def mini_batch_gradient_descent(X, y, batch_size=32, learning_rate=0.01, max_epochs=100, tolerance=1e-6):\n",
    "    \"\"\"\n",
    "    Implement mini-batch stochastic gradient descent for linear regression.\n",
    "    \"\"\"\n",
    "    # Add bias term to X\n",
    "    m, n = X.shape\n",
    "    X_b = np.c_[np.ones((m, 1)), X]\n",
    "    \n",
    "    # Initialize parameters (weights and bias)\n",
    "    theta = np.zeros(n + 1)\n",
    "    \n",
    "    # Lists to store cost history\n",
    "    cost_history = []\n",
    "    \n",
    "    # Main training loop over epochs\n",
    "    for epoch in range(max_epochs):\n",
    "        theta_prev = theta.copy()\n",
    "        \n",
    "        # Shuffle the data\n",
    "        indices = np.random.permutation(m)\n",
    "        X_shuffled = X_b[indices]\n",
    "        y_shuffled = y[indices]\n",
    "        \n",
    "        # Process mini-batches\n",
    "        for i in range(0, m, batch_size):\n",
    "            # Get mini-batch\n",
    "            X_batch = X_shuffled[i:i+batch_size]\n",
    "            y_batch = y_shuffled[i:i+batch_size]\n",
    "            \n",
    "            # Calculate predictions for this batch\n",
    "            y_pred = X_batch.dot(theta)\n",
    "            \n",
    "            # Calculate gradients using the current batch\n",
    "            # Note: We divide by batch_size (not m) since we're using a mini-batch\n",
    "            gradients = (2/len(X_batch)) * X_batch.T.dot(y_pred - y_batch)\n",
    "            \n",
    "            # Update parameters\n",
    "            theta = theta - learning_rate * gradients\n",
    "        \n",
    "        # Calculate cost over all examples at end of epoch\n",
    "        y_pred_all = X_b.dot(theta)\n",
    "        cost = np.mean((y_pred_all - y) ** 2)\n",
    "        cost_history.append(cost)\n",
    "        \n",
    "        # Check for convergence\n",
    "        if np.all(np.abs(theta - theta_prev) < tolerance):\n",
    "            print(f\"Converged after {epoch + 1} epochs!\")\n",
    "            break\n",
    "            \n",
    "        if epoch == max_epochs - 1:\n",
    "            print(\"Maximum epochs reached!\")\n",
    "    \n",
    "    return theta, cost_history"
   ]
  },
  {
   "cell_type": "code",
   "execution_count": 34,
   "metadata": {},
   "outputs": [
    {
     "name": "stdout",
     "output_type": "stream",
     "text": [
      "Maximum epochs reached!\n",
      "\n",
      "Final parameters:\n",
      "Bias (theta_0): 3.9968\n",
      "Weight (theta_1): 2.9951\n"
     ]
    }
   ],
   "source": [
    "# Train the model\n",
    "theta, cost_history = mini_batch_gradient_descent(X, y, batch_size=40, max_epochs=1000)\n",
    "\n",
    "# Print results\n",
    "print(\"\\nFinal parameters:\")\n",
    "print(f\"Bias (theta_0): {theta[0]:.4f}\")\n",
    "print(f\"Weight (theta_1): {theta[1]:.4f}\")"
   ]
  },
  {
   "cell_type": "code",
   "execution_count": 35,
   "metadata": {},
   "outputs": [
    {
     "data": {
      "image/png": "[encoded data removed]",
      "text/plain": [
       "<Figure size 640x480 with 1 Axes>"
      ]
     },
     "metadata": {},
     "output_type": "display_data"
    }
   ],
   "source": [
    "plt.plot(cost_history)\n",
    "plt.title(\"Cost vs iterations\")\n",
    "plt.show()"
   ]
  },
  {
   "cell_type": "code",
   "execution_count": null,
   "metadata": {},
   "outputs": [],
   "source": []
  }
 ],
 "metadata": {
  "kernelspec": {
   "display_name": "base",
   "language": "python",
   "name": "python3"
  },
  "language_info": {
   "codemirror_mode": {
    "name": "ipython",
    "version": 3
   },
   "file_extension": ".py",
   "mimetype": "text/x-python",
   "name": "python",
   "nbconvert_exporter": "python",
   "pygments_lexer": "ipython3",
   "version": "3.9.16"
  }
 },
 "nbformat": 4,
 "nbformat_minor": 2
}
